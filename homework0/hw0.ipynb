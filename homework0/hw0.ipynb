{
 "cells": [
  {
   "cell_type": "code",
   "execution_count": 1,
   "metadata": {
    "collapsed": true
   },
   "outputs": [],
   "source": [
    "import numpy as np\n",
    "import torch"
   ]
  },
  {
   "cell_type": "code",
   "execution_count": 2,
   "metadata": {
    "code_folding": [],
    "collapsed": true
   },
   "outputs": [],
   "source": [
    "\n",
    "#Vectorizaiton\n",
    "def vectorize_sumproducts(v1,v2):\n",
    "    if len(v1)==len(v2):\n",
    "        s=sum(np.multiply(v1,v2))\n",
    "        return s\n",
    "    else:\n",
    "        return \"The length of two vectors must be the same\"\n",
    "def vectorize_Relu(s):\n",
    "    s=np.array(s)\n",
    "    s[s<0]=0\n",
    "    return s\n",
    "def vectorize_PrimeRelu(s):\n",
    "    s=np.array(s)\n",
    "    s[s<=0]=0\n",
    "    s[s>0]=1\n",
    "    return s"
   ]
  },
  {
   "cell_type": "code",
   "execution_count": 21,
   "metadata": {},
   "outputs": [
    {
     "name": "stdout",
     "output_type": "stream",
     "text": [
      "69.0\n"
     ]
    }
   ],
   "source": [
    "print(vectorize_sumproducts([1,3,3,4.5,5],[1,2,3,4,7]))"
   ]
  },
  {
   "cell_type": "code",
   "execution_count": 20,
   "metadata": {},
   "outputs": [
    {
     "name": "stdout",
     "output_type": "stream",
     "text": [
      "[[0 2 3]\n",
      " [3 0 5]]\n",
      "[[0 1 1]\n",
      " [1 0 1]]\n"
     ]
    }
   ],
   "source": [
    "l=[[-1,2,3],[3,-4,5]]\n",
    "print(vectorize_Relu(l))\n",
    "print(vectorize_PrimeRelu(l))"
   ]
  },
  {
   "cell_type": "code",
   "execution_count": 28,
   "metadata": {},
   "outputs": [
    {
     "name": "stdout",
     "output_type": "stream",
     "text": [
      "4\n"
     ]
    }
   ],
   "source": [
    "test=np.array([[[1,2,3,4,5,9,6],\n",
    "                [2,7,9,8],\n",
    "                [1,5,6,9,7],\n",
    "                [2,3]],\n",
    "               \n",
    "               [[1,2,7],\n",
    "                [2,6]],\n",
    "               \n",
    "               [[3,7,0],\n",
    "                [5,9,0],\n",
    "                [1,3,5],\n",
    "                [4,2,1,8,4,2],\n",
    "                [7,9]],\n",
    "               \n",
    "               [[1,5,8,5],\n",
    "                [5,2,1,4,2,0]]])\n",
    "print(test.size)"
   ]
  },
  {
   "cell_type": "code",
   "execution_count": 22,
   "metadata": {
    "code_folding": [],
    "collapsed": true
   },
   "outputs": [],
   "source": [
    "#Slice\n",
    "\n",
    "def Slice_fixed_point(s,length,startpoint):\n",
    "    s=np.array(s)\n",
    "    s_p=[]\n",
    "    for dim in s:\n",
    "        s_p.append(np.array([row[startpoint:startpoint+length] for row in dim]))\n",
    "    return np.array(s_p)\n",
    "\n",
    "def slice_last_point(s,endpoint):\n",
    "    s=np.array(s)\n",
    "    s_p=[]\n",
    "    for dim in s:\n",
    "        s_p.append(np.array([row[-endpoint:] for row in dim]))\n",
    "    return np.array(s_p)\n",
    "  \n",
    "def slice_random_point(s,length):\n",
    "    s=np.array(s)\n",
    "    row_length=[[len(row) for row in dim] for dim in s]\n",
    "    min_row=np.min(np.min(row_length))\n",
    "    r=np.random.randint(min_row,size=1)\n",
    "    s_p=[]\n",
    "    for dim in s:\n",
    "        temp=[]\n",
    "        for row in dim:\n",
    "            z=row[int(r):int(r)+length]\n",
    "            temp.append(np.array(z))\n",
    "        s_p.append(np.array(temp))\n",
    "    return np.array(s_p)\n"
   ]
  },
  {
   "cell_type": "code",
   "execution_count": 23,
   "metadata": {},
   "outputs": [
    {
     "name": "stdout",
     "output_type": "stream",
     "text": [
      "[array([list([2, 3]), list([7, 9]), list([5, 6]), list([3])], dtype=object)\n",
      " array([list([2, 7]), list([6])], dtype=object)\n",
      " array([list([7, 0]), list([9, 0]), list([3, 5]), list([2, 1]), list([9])],\n",
      "      dtype=object)\n",
      " array([[5, 8],\n",
      "       [2, 1]])]\n"
     ]
    }
   ],
   "source": [
    "print(Slice_fixed_point(test,2,1))"
   ]
  },
  {
   "cell_type": "code",
   "execution_count": 8,
   "metadata": {},
   "outputs": [
    {
     "name": "stdout",
     "output_type": "stream",
     "text": [
      "[array([[9, 6],\n",
      "       [9, 8],\n",
      "       [9, 7],\n",
      "       [2, 3]])\n",
      " array([[2, 7],\n",
      "       [2, 6]])\n",
      " array([[7, 0],\n",
      "       [9, 0],\n",
      "       [3, 5],\n",
      "       [4, 2],\n",
      "       [7, 9]])\n",
      " array([[8, 5],\n",
      "       [2, 0]])]\n"
     ]
    }
   ],
   "source": [
    "print(slice_last_point(test,2))"
   ]
  },
  {
   "cell_type": "code",
   "execution_count": 24,
   "metadata": {
    "scrolled": true
   },
   "outputs": [
    {
     "name": "stdout",
     "output_type": "stream",
     "text": [
      "[array([[1, 2],\n",
      "       [2, 7],\n",
      "       [1, 5],\n",
      "       [2, 3]])\n",
      " array([[1, 2],\n",
      "       [2, 6]])\n",
      " array([[3, 7],\n",
      "       [5, 9],\n",
      "       [1, 3],\n",
      "       [4, 2],\n",
      "       [7, 9]])\n",
      " array([[1, 5],\n",
      "       [5, 2]])]\n"
     ]
    }
   ],
   "source": [
    "print(slice_random_point(test,2))"
   ]
  },
  {
   "cell_type": "code",
   "execution_count": 10,
   "metadata": {
    "code_folding": [
     2,
     6,
     11,
     18,
     24
    ],
    "collapsed": true
   },
   "outputs": [],
   "source": [
    "# numpy&torch\n",
    "\n",
    "def numpy2tensor(s):\n",
    "    s=np.array(s)\n",
    "    return torch.from_numpy(s)\n",
    "    \n",
    "def tensor2numpy(s):\n",
    "    s=torch.FloatTensor(s)\n",
    "    return s.numpy() \n",
    "#Tensor Sum-products\n",
    "\n",
    "def Tensor_Sumproducts(a,b):\n",
    "    a=torch.FloatTensor(a)\n",
    "    b=torch.FloatTensor(b)\n",
    "    return a.dot(b)\n",
    "\n",
    "#Tensor ReLu and ReLu prime\n",
    "\n",
    "def Tensor_Relu(a):\n",
    "    a=torch.FloatTensor(a)\n",
    "    a[a<0]=0\n",
    "    return a\n",
    "\n",
    "\n",
    "def Tensor_Relu_prime(a):\n",
    "    a=torch.FloatTensor(a)\n",
    "    a[a<=0]=0\n",
    "    a[a>0]=1\n",
    "    return a"
   ]
  },
  {
   "cell_type": "code",
   "execution_count": 11,
   "metadata": {},
   "outputs": [
    {
     "name": "stdout",
     "output_type": "stream",
     "text": [
      "tensor([[ 1,  2,  3],\n",
      "        [ 3, -4,  5]], dtype=torch.int32)\n",
      "[1. 1. 1. 1. 1. 1. 1.]\n",
      "<class 'numpy.ndarray'>\n"
     ]
    }
   ],
   "source": [
    "\n",
    "print(numpy2tensor(np.array(l)))\n",
    "print(tensor2numpy(torch.ones(7)))\n",
    "print(type(tensor2numpy(torch.ones(7))))"
   ]
  },
  {
   "cell_type": "code",
   "execution_count": 25,
   "metadata": {},
   "outputs": [
    {
     "name": "stdout",
     "output_type": "stream",
     "text": [
      "tensor([2., 2., 2., 2., 2.])\n",
      "tensor([1., 2., 3., 4., 5.])\n",
      "tensor(30.)\n"
     ]
    }
   ],
   "source": [
    "a=torch.ones(5)*2\n",
    "b=torch.FloatTensor([1,2,3,4,5])\n",
    "print(a)\n",
    "print(b)\n",
    "print(Tensor_Sumproducts(a,b))"
   ]
  },
  {
   "cell_type": "code",
   "execution_count": 13,
   "metadata": {},
   "outputs": [
    {
     "name": "stdout",
     "output_type": "stream",
     "text": [
      "tensor([3., 2., 3., 4., 5.])\n"
     ]
    }
   ],
   "source": [
    "b[0]=3\n",
    "print(b)"
   ]
  },
  {
   "cell_type": "code",
   "execution_count": 27,
   "metadata": {},
   "outputs": [
    {
     "data": {
      "text/plain": [
       "tensor([[0., 1., 1.],\n",
       "        [1., 0., 1.]])"
      ]
     },
     "execution_count": 27,
     "metadata": {},
     "output_type": "execute_result"
    }
   ],
   "source": [
    "l=[[-1,2,3],[3,-4,5]]\n",
    "Tensor_Relu_prime(l)"
   ]
  },
  {
   "cell_type": "code",
   "execution_count": 15,
   "metadata": {
    "code_folding": [],
    "collapsed": true
   },
   "outputs": [],
   "source": [
    "def pad_pattern_end(test):\n",
    "    out1=[]\n",
    "    i=0\n",
    "    out2=[]\n",
    "    row_length=[[len(row) for row in dim]for dim in test]\n",
    "    max_row=np.max(np.max(row_length))\n",
    "    col_length=[len(dim) for dim in test]\n",
    "    max_col=np.max(col_length)\n",
    "    for dim in test:\n",
    "        temp=[]\n",
    "        for row in dim:\n",
    "            row=np.pad(row,(0,max_row-len(row)),'symmetric')\n",
    "            row=list(row)\n",
    "            temp.append(row)\n",
    "        out1.append(temp)\n",
    "        \n",
    "    for dim in out1:\n",
    "        dim=np.pad(dim,((0,max_col-len(dim)),(0,0)),'symmetric')\n",
    "        dim_p=dim\n",
    "        out2.append(dim_p)\n",
    "    return np.array(out2)"
   ]
  },
  {
   "cell_type": "code",
   "execution_count": 16,
   "metadata": {},
   "outputs": [
    {
     "name": "stdout",
     "output_type": "stream",
     "text": [
      "[[[1 2 3 4 5 9 6]\n",
      "  [2 7 9 8 8 9 7]\n",
      "  [1 5 6 9 7 7 9]\n",
      "  [2 3 3 2 2 3 3]\n",
      "  [2 3 3 2 2 3 3]]\n",
      "\n",
      " [[1 2 7 7 2 1 1]\n",
      "  [2 6 6 2 2 6 6]\n",
      "  [2 6 6 2 2 6 6]\n",
      "  [1 2 7 7 2 1 1]\n",
      "  [1 2 7 7 2 1 1]]\n",
      "\n",
      " [[3 7 0 0 7 3 3]\n",
      "  [5 9 0 0 9 5 5]\n",
      "  [1 3 5 5 3 1 1]\n",
      "  [4 2 1 8 4 2 2]\n",
      "  [7 9 9 7 7 9 9]]\n",
      "\n",
      " [[1 5 8 5 5 8 5]\n",
      "  [5 2 1 4 2 0 0]\n",
      "  [5 2 1 4 2 0 0]\n",
      "  [1 5 8 5 5 8 5]\n",
      "  [1 5 8 5 5 8 5]]]\n",
      "<class 'numpy.ndarray'>\n"
     ]
    }
   ],
   "source": [
    "\n",
    "a=pad_pattern_end(test)\n",
    "print(a)"
   ]
  },
  {
   "cell_type": "code",
   "execution_count": 17,
   "metadata": {
    "code_folding": [],
    "collapsed": true
   },
   "outputs": [],
   "source": [
    "def pad_constant_central(test,cval):\n",
    "    out1=[]\n",
    "    out2=[]\n",
    "    row_length=[[len(row) for row in dim]for dim in test]\n",
    "    max_row=np.max(np.max(row_length))\n",
    "    col_length=[len(dim) for dim in test]\n",
    "    max_col=np.max(col_length)\n",
    "    for dim in test:\n",
    "        temp=[]\n",
    "        for row in dim:\n",
    "            if (max_row-len(row))%2==0:\n",
    "                row=np.pad(row,(int((max_row-len(row))/2),int((max_row-len(row))/2)),\n",
    "                           'constant',constant_values=cval)\n",
    "            else:\n",
    "                row=np.pad(row,(int((max_row-len(row))/2),int((max_row-len(row))/2)+1),\n",
    "                           'constant',constant_values=cval)\n",
    "            row=list(row)\n",
    "            temp.append(row)\n",
    "        out1.append(temp)\n",
    "\n",
    "    for dim in out1:\n",
    "        if (max_col-len(dim))%2==0:\n",
    "            dim=np.pad(dim,((int((max_col-len(dim))/2),int((max_col-len(dim))/2)),(0,0)),\n",
    "                       'constant',constant_values=cval)\n",
    "        else:\n",
    "            dim=np.pad(dim,((int((max_col-len(dim))/2),int((max_col-len(dim))/2)+1),(0,0)),\n",
    "                       'constant',constant_values=cval)\n",
    "        dim_p=dim\n",
    "        out2.append(dim_p)\n",
    "        \n",
    "    return np.array(out2)\n",
    "    "
   ]
  },
  {
   "cell_type": "code",
   "execution_count": 18,
   "metadata": {},
   "outputs": [
    {
     "name": "stdout",
     "output_type": "stream",
     "text": [
      "[[[1 2 3 4 5 9 6]\n",
      "  [3 2 7 9 8 3 3]\n",
      "  [3 1 5 6 9 7 3]\n",
      "  [3 3 2 3 3 3 3]\n",
      "  [3 3 3 3 3 3 3]]\n",
      "\n",
      " [[3 3 3 3 3 3 3]\n",
      "  [3 3 1 2 7 3 3]\n",
      "  [3 3 2 6 3 3 3]\n",
      "  [3 3 3 3 3 3 3]\n",
      "  [3 3 3 3 3 3 3]]\n",
      "\n",
      " [[3 3 3 7 0 3 3]\n",
      "  [3 3 5 9 0 3 3]\n",
      "  [3 3 1 3 5 3 3]\n",
      "  [4 2 1 8 4 2 3]\n",
      "  [3 3 7 9 3 3 3]]\n",
      "\n",
      " [[3 3 3 3 3 3 3]\n",
      "  [3 1 5 8 5 3 3]\n",
      "  [5 2 1 4 2 0 3]\n",
      "  [3 3 3 3 3 3 3]\n",
      "  [3 3 3 3 3 3 3]]]\n"
     ]
    }
   ],
   "source": [
    "b=pad_constant_central(test,3)\n",
    "print(b)"
   ]
  },
  {
   "cell_type": "code",
   "execution_count": 19,
   "metadata": {},
   "outputs": [
    {
     "name": "stdout",
     "output_type": "stream",
     "text": [
      "(4,)\n"
     ]
    }
   ],
   "source": [
    "for dim in range(test.shape[0]):\n",
    "    test[dim]=np.pad(test[dim],((0,0)),'constant')\n",
    "print(test[0].shape)"
   ]
  },
  {
   "cell_type": "code",
   "execution_count": null,
   "metadata": {
    "collapsed": true
   },
   "outputs": [],
   "source": []
  }
 ],
 "metadata": {
  "kernelspec": {
   "display_name": "Python 3",
   "language": "python",
   "name": "python3"
  },
  "language_info": {
   "codemirror_mode": {
    "name": "ipython",
    "version": 3
   },
   "file_extension": ".py",
   "mimetype": "text/x-python",
   "name": "python",
   "nbconvert_exporter": "python",
   "pygments_lexer": "ipython3",
   "version": "3.5.4"
  },
  "varInspector": {
   "cols": {
    "lenName": 16,
    "lenType": 16,
    "lenVar": 40
   },
   "kernels_config": {
    "python": {
     "delete_cmd_postfix": "",
     "delete_cmd_prefix": "del ",
     "library": "var_list.py",
     "varRefreshCmd": "print(var_dic_list())"
    },
    "r": {
     "delete_cmd_postfix": ") ",
     "delete_cmd_prefix": "rm(",
     "library": "var_list.r",
     "varRefreshCmd": "cat(var_dic_list()) "
    }
   },
   "oldHeight": 369,
   "position": {
    "height": "34px",
    "left": "1250px",
    "right": "20px",
    "top": "365px",
    "width": "410px"
   },
   "types_to_exclude": [
    "module",
    "function",
    "builtin_function_or_method",
    "instance",
    "_Feature"
   ],
   "varInspector_section_display": "none",
   "window_display": true
  }
 },
 "nbformat": 4,
 "nbformat_minor": 2
}
